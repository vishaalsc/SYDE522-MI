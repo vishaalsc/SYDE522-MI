{
 "cells": [
  {
   "cell_type": "code",
   "execution_count": 1,
   "metadata": {},
   "outputs": [],
   "source": [
    "import numpy as np\n",
    "import pandas as pd\n",
    "import matplotlib as mpl\n",
    "import matplotlib.pyplot as plt\n",
    "import seaborn as sns\n",
    "from sklearn.model_selection import train_test_split, GridSearchCV, cross_val_score\n",
    "from sklearn.linear_model import SGDClassifier\n",
    "from sklearn.metrics import accuracy_score, confusion_matrix\n",
    "from sklearn.ensemble import RandomForestClassifier, VotingClassifier\n",
    "from sklearn.neighbors import KNeighborsClassifier\n",
    "from sklearn.svm import SVC"
   ]
  },
  {
   "cell_type": "code",
   "execution_count": 2,
   "metadata": {},
   "outputs": [
    {
     "name": "stdout",
     "output_type": "stream",
     "text": [
      "(32000, 785)\n",
      "<class 'pandas.core.frame.DataFrame'>\n",
      "RangeIndex: 32000 entries, 0 to 31999\n",
      "Columns: 785 entries, label to 783\n",
      "dtypes: int64(785)\n",
      "memory usage: 191.7 MB\n"
     ]
    }
   ],
   "source": [
    "# Import dataset\n",
    "train_data = pd.read_csv('../input/train.csv')\n",
    "print(train_data.shape)\n",
    "train_data.describe()\n",
    "train_data.info()"
   ]
  },
  {
   "cell_type": "code",
   "execution_count": 3,
   "metadata": {},
   "outputs": [
    {
     "data": {
      "image/png": "[encoded data removed]",
      "text/plain": [
       "<Figure size 432x288 with 1 Axes>"
      ]
     },
     "metadata": {
      "needs_background": "light"
     },
     "output_type": "display_data"
    },
    {
     "data": {
      "image/png": "[encoded data removed]",
      "text/plain": [
       "<Figure size 432x288 with 1 Axes>"
      ]
     },
     "metadata": {
      "needs_background": "light"
     },
     "output_type": "display_data"
    },
    {
     "data": {
      "image/png": "[encoded data removed]",
      "text/plain": [
       "<Figure size 432x288 with 1 Axes>"
      ]
     },
     "metadata": {
      "needs_background": "light"
     },
     "output_type": "display_data"
    },
    {
     "data": {
      "image/png": "[encoded data removed]",
      "text/plain": [
       "<Figure size 432x288 with 1 Axes>"
      ]
     },
     "metadata": {
      "needs_background": "light"
     },
     "output_type": "display_data"
    },
    {
     "name": "stdout",
     "output_type": "stream",
     "text": [
      "0\n",
      "2\n",
      "3\n",
      "0\n"
     ]
    }
   ],
   "source": [
    "# Construct digit from pixel values\n",
    "for val in (10, 25, 1000, 2500):\n",
    "    sample_digit = train_data.iloc[val][1:]\n",
    "    sample_digit_mtx = sample_digit.values.reshape(28,28)\n",
    "    plt.imshow(sample_digit_mtx)\n",
    "    plt.axis(\"off\")\n",
    "    plt.show()\n",
    "\n",
    "# Confirm values\n",
    "for val in (10, 25, 1000, 2500):\n",
    "    print(train_data.iloc[val][0])"
   ]
  },
  {
   "cell_type": "code",
   "execution_count": 4,
   "metadata": {},
   "outputs": [
    {
     "data": {
      "text/plain": [
       "count       785\n",
       "unique        1\n",
       "top       False\n",
       "freq        785\n",
       "dtype: object"
      ]
     },
     "execution_count": 4,
     "metadata": {},
     "output_type": "execute_result"
    }
   ],
   "source": [
    "# Check missing values\n",
    "train_data.isnull().any().describe()"
   ]
  },
  {
   "cell_type": "code",
   "execution_count": 5,
   "metadata": {},
   "outputs": [
    {
     "data": {
      "image/png": "[encoded data removed]",
      "text/plain": [
       "<Figure size 432x288 with 1 Axes>"
      ]
     },
     "metadata": {},
     "output_type": "display_data"
    }
   ],
   "source": [
    "# Plot digit frequencies\n",
    "plt.ioff()\n",
    "sns.set_theme(style='darkgrid')\n",
    "ax = sns.countplot(data=train_data, x='label')"
   ]
  },
  {
   "cell_type": "code",
   "execution_count": 6,
   "metadata": {},
   "outputs": [
    {
     "name": "stdout",
     "output_type": "stream",
     "text": [
      "(32000, 784)\n",
      "(32000,)\n"
     ]
    }
   ],
   "source": [
    "# Reshape\n",
    "x = train_data.drop(['label'], axis=1)\n",
    "y = train_data['label']\n",
    "print(x.shape)\n",
    "print(y.shape)"
   ]
  },
  {
   "cell_type": "code",
   "execution_count": 7,
   "metadata": {},
   "outputs": [],
   "source": [
    "# Split training and validation sets\n",
    "x_train, x_test, y_train, y_test = train_test_split(x, y, test_size=0.1, random_state=42)"
   ]
  },
  {
   "cell_type": "code",
   "execution_count": 8,
   "metadata": {},
   "outputs": [
    {
     "data": {
      "text/plain": [
       "SGDClassifier(loss='log', n_jobs=1, random_state=42)"
      ]
     },
     "execution_count": 8,
     "metadata": {},
     "output_type": "execute_result"
    }
   ],
   "source": [
    "# SGD Classifier\n",
    "sgd_clf = SGDClassifier(random_state=42, n_jobs=1)\n",
    "sgd_clf_log = SGDClassifier(random_state=42, n_jobs=1, loss='log')\n",
    "\n",
    "sgd_clf.fit(x_train, y_train)\n",
    "sgd_clf_log.fit(x_train, y_train)"
   ]
  },
  {
   "cell_type": "code",
   "execution_count": 9,
   "metadata": {},
   "outputs": [
    {
     "name": "stdout",
     "output_type": "stream",
     "text": [
      "0.8790625\n",
      "0.894375\n"
     ]
    }
   ],
   "source": [
    "# SGD Accuracy\n",
    "y_pred_sgd_clf = sgd_clf.predict(x_test)\n",
    "y_pred_sgd_clf_log = sgd_clf_log.predict(x_test)\n",
    "\n",
    "print(accuracy_score(y_test, y_pred_sgd_clf))\n",
    "print(accuracy_score(y_test, y_pred_sgd_clf_log))"
   ]
  },
  {
   "cell_type": "code",
   "execution_count": 10,
   "metadata": {},
   "outputs": [
    {
     "data": {
      "text/plain": [
       "array([[335,   0,   1,   0,   6,   6,   0,   3,   0],\n",
       "       [  1, 392,   4,   1,   2,   0,   3,   7,   3],\n",
       "       [  2,   1, 271,  10,  10,   4,   5,  13,   2],\n",
       "       [  3,   3,  15, 280,  33,   2,   3,  14,   6],\n",
       "       [  2,   0,   2,   3, 274,   6,   0,  13,   7],\n",
       "       [  3,   0,   4,   1,   8, 336,   0,   1,   0],\n",
       "       [  3,   0,  10,   7,   6,   0, 323,   2,  28],\n",
       "       [  3,   6,   4,   3,  46,   2,   2, 271,  25],\n",
       "       [  3,   2,   1,   0,  10,   1,   7,   3, 331]])"
      ]
     },
     "execution_count": 10,
     "metadata": {},
     "output_type": "execute_result"
    }
   ],
   "source": [
    "# SGD prediction\n",
    "y_test_pred_sgd = sgd_clf.predict(x_test)\n",
    "\n",
    "# CM for false pos/neg\n",
    "confusion_matrix(y_test, y_test_pred_sgd)"
   ]
  },
  {
   "cell_type": "code",
   "execution_count": 11,
   "metadata": {},
   "outputs": [
    {
     "name": "stderr",
     "output_type": "stream",
     "text": [
      "[Parallel(n_jobs=-1)]: Using backend ThreadingBackend with 8 concurrent workers.\n",
      "[Parallel(n_jobs=-1)]: Done  34 tasks      | elapsed:    0.4s\n",
      "[Parallel(n_jobs=-1)]: Done 184 tasks      | elapsed:    2.2s\n",
      "[Parallel(n_jobs=-1)]: Done 434 tasks      | elapsed:    5.7s\n",
      "[Parallel(n_jobs=-1)]: Done 500 out of 500 | elapsed:    6.7s finished\n"
     ]
    },
    {
     "data": {
      "text/plain": [
       "RandomForestClassifier(max_leaf_nodes=30, n_estimators=500, n_jobs=-1,\n",
       "                       random_state=42, verbose=1)"
      ]
     },
     "execution_count": 11,
     "metadata": {},
     "output_type": "execute_result"
    }
   ],
   "source": [
    "# Random Forest Classifier\n",
    "rf_clf = RandomForestClassifier(n_estimators=500, max_leaf_nodes=30, random_state=42, n_jobs=-1, verbose=1)\n",
    "rf_clf.fit(x_train, y_train)"
   ]
  },
  {
   "cell_type": "code",
   "execution_count": 13,
   "metadata": {},
   "outputs": [
    {
     "name": "stderr",
     "output_type": "stream",
     "text": [
      "[Parallel(n_jobs=8)]: Using backend ThreadingBackend with 8 concurrent workers.\n",
      "[Parallel(n_jobs=8)]: Done  34 tasks      | elapsed:    0.0s\n",
      "[Parallel(n_jobs=8)]: Done 184 tasks      | elapsed:    0.1s\n",
      "[Parallel(n_jobs=8)]: Done 434 tasks      | elapsed:    0.1s\n",
      "[Parallel(n_jobs=8)]: Done 500 out of 500 | elapsed:    0.1s finished\n"
     ]
    },
    {
     "data": {
      "text/plain": [
       "0.895625"
      ]
     },
     "execution_count": 13,
     "metadata": {},
     "output_type": "execute_result"
    }
   ],
   "source": [
    "# RF Accuracy\n",
    "y_test_pred_rf_clf = rf_clf.predict(x_test)\n",
    "accuracy_score(y_test, y_test_pred_rf_clf)"
   ]
  },
  {
   "cell_type": "code",
   "execution_count": 14,
   "metadata": {},
   "outputs": [
    {
     "name": "stdout",
     "output_type": "stream",
     "text": [
      "Fitting 3 folds for each of 6 candidates, totalling 18 fits\n",
      "[CV] n_neighbors=5, weights=uniform ..................................\n"
     ]
    },
    {
     "name": "stderr",
     "output_type": "stream",
     "text": [
      "[Parallel(n_jobs=1)]: Using backend SequentialBackend with 1 concurrent workers.\n"
     ]
    },
    {
     "name": "stdout",
     "output_type": "stream",
     "text": [
      "[CV] ...... n_neighbors=5, weights=uniform, score=0.960, total=  58.3s\n",
      "[CV] n_neighbors=5, weights=uniform ..................................\n"
     ]
    },
    {
     "name": "stderr",
     "output_type": "stream",
     "text": [
      "[Parallel(n_jobs=1)]: Done   1 out of   1 | elapsed:   58.3s remaining:    0.0s\n"
     ]
    },
    {
     "name": "stdout",
     "output_type": "stream",
     "text": [
      "[CV] ...... n_neighbors=5, weights=uniform, score=0.962, total=  54.3s\n",
      "[CV] n_neighbors=5, weights=uniform ..................................\n"
     ]
    },
    {
     "name": "stderr",
     "output_type": "stream",
     "text": [
      "[Parallel(n_jobs=1)]: Done   2 out of   2 | elapsed:  1.9min remaining:    0.0s\n"
     ]
    },
    {
     "name": "stdout",
     "output_type": "stream",
     "text": [
      "[CV] ...... n_neighbors=5, weights=uniform, score=0.962, total=  54.5s\n",
      "[CV] n_neighbors=5, weights=distance .................................\n",
      "[CV] ..... n_neighbors=5, weights=distance, score=0.962, total=  51.7s\n",
      "[CV] n_neighbors=5, weights=distance .................................\n",
      "[CV] ..... n_neighbors=5, weights=distance, score=0.965, total=  49.5s\n",
      "[CV] n_neighbors=5, weights=distance .................................\n",
      "[CV] ..... n_neighbors=5, weights=distance, score=0.964, total=  48.0s\n",
      "[CV] n_neighbors=8, weights=uniform ..................................\n",
      "[CV] ...... n_neighbors=8, weights=uniform, score=0.957, total=  52.7s\n",
      "[CV] n_neighbors=8, weights=uniform ..................................\n",
      "[CV] ...... n_neighbors=8, weights=uniform, score=0.959, total=  54.8s\n",
      "[CV] n_neighbors=8, weights=uniform ..................................\n",
      "[CV] ...... n_neighbors=8, weights=uniform, score=0.958, total=  55.7s\n",
      "[CV] n_neighbors=8, weights=distance .................................\n",
      "[CV] ..... n_neighbors=8, weights=distance, score=0.961, total=  55.5s\n",
      "[CV] n_neighbors=8, weights=distance .................................\n",
      "[CV] ..... n_neighbors=8, weights=distance, score=0.962, total=  54.8s\n",
      "[CV] n_neighbors=8, weights=distance .................................\n",
      "[CV] ..... n_neighbors=8, weights=distance, score=0.962, total= 1.0min\n",
      "[CV] n_neighbors=13, weights=uniform .................................\n",
      "[CV] ..... n_neighbors=13, weights=uniform, score=0.954, total= 1.0min\n",
      "[CV] n_neighbors=13, weights=uniform .................................\n",
      "[CV] ..... n_neighbors=13, weights=uniform, score=0.956, total= 1.1min\n",
      "[CV] n_neighbors=13, weights=uniform .................................\n",
      "[CV] ..... n_neighbors=13, weights=uniform, score=0.953, total= 1.0min\n",
      "[CV] n_neighbors=13, weights=distance ................................\n",
      "[CV] .... n_neighbors=13, weights=distance, score=0.956, total= 1.1min\n",
      "[CV] n_neighbors=13, weights=distance ................................\n",
      "[CV] .... n_neighbors=13, weights=distance, score=0.957, total= 1.1min\n",
      "[CV] n_neighbors=13, weights=distance ................................\n",
      "[CV] .... n_neighbors=13, weights=distance, score=0.955, total= 1.0min\n"
     ]
    },
    {
     "name": "stderr",
     "output_type": "stream",
     "text": [
      "[Parallel(n_jobs=1)]: Done  18 out of  18 | elapsed: 17.2min finished\n"
     ]
    },
    {
     "data": {
      "text/plain": [
       "GridSearchCV(cv=3, estimator=KNeighborsClassifier(n_jobs=-1),\n",
       "             param_grid=[{'n_neighbors': [5, 8, 13],\n",
       "                          'weights': ['uniform', 'distance']}],\n",
       "             verbose=3)"
      ]
     },
     "execution_count": 14,
     "metadata": {},
     "output_type": "execute_result"
    }
   ],
   "source": [
    "# K-Nearest Neighbors Classifier\n",
    "param_grid = [{\n",
    "    'weights': ['uniform', 'distance'],\n",
    "    'n_neighbors': [5, 8, 13],\n",
    "}]\n",
    "\n",
    "knn_clf = KNeighborsClassifier(n_jobs=-1)\n",
    "\n",
    "# GSCV trying different hyperparameters\n",
    "grid_search_knn = GridSearchCV(knn_clf, param_grid, cv=3, verbose=3)\n",
    "grid_search_knn.fit(x_train, y_train)"
   ]
  },
  {
   "cell_type": "code",
   "execution_count": 15,
   "metadata": {},
   "outputs": [
    {
     "name": "stdout",
     "output_type": "stream",
     "text": [
      "KNN best params: {'n_neighbors': 5, 'weights': 'distance'}\n",
      "KNN best score: 0.9637847222222223\n"
     ]
    }
   ],
   "source": [
    "# Optimal KNN hyperparameters\n",
    "print(f'KNN best params: {grid_search_knn.best_params_}')\n",
    "print(f'KNN best score: {grid_search_knn.best_score_}')"
   ]
  },
  {
   "cell_type": "code",
   "execution_count": 16,
   "metadata": {},
   "outputs": [
    {
     "name": "stderr",
     "output_type": "stream",
     "text": [
      "[Parallel(n_jobs=-1)]: Using backend LokyBackend with 8 concurrent workers.\n",
      "[Parallel(n_jobs=-1)]: Done   3 out of   3 | elapsed:  4.1min finished\n",
      "[Parallel(n_jobs=-1)]: Using backend LokyBackend with 8 concurrent workers.\n",
      "/Users/vishaal/opt/anaconda3/lib/python3.8/site-packages/joblib/externals/loky/process_executor.py:688: UserWarning: A worker stopped while some jobs were given to the executor. This can be caused by a too short worker timeout or by a memory leak.\n",
      "  warnings.warn(\n",
      "[Parallel(n_jobs=-1)]: Done   3 out of   3 | elapsed:  4.8min finished\n",
      "[Parallel(n_jobs=-1)]: Using backend LokyBackend with 8 concurrent workers.\n",
      "[Parallel(n_jobs=-1)]: Done   3 out of   3 | elapsed:  4.4min finished\n",
      "[Parallel(n_jobs=-1)]: Using backend LokyBackend with 8 concurrent workers.\n",
      "[Parallel(n_jobs=-1)]: Done   3 out of   3 | elapsed:  4.4min finished\n",
      "[Parallel(n_jobs=-1)]: Using backend LokyBackend with 8 concurrent workers.\n",
      "[Parallel(n_jobs=-1)]: Done   3 out of   3 | elapsed:  5.7min finished\n",
      "[Parallel(n_jobs=-1)]: Using backend LokyBackend with 8 concurrent workers.\n",
      "[Parallel(n_jobs=-1)]: Done   3 out of   3 | elapsed:  4.8min finished\n",
      "[Parallel(n_jobs=-1)]: Using backend LokyBackend with 8 concurrent workers.\n",
      "[Parallel(n_jobs=-1)]: Done   3 out of   3 | elapsed:  4.5min finished\n",
      "[Parallel(n_jobs=-1)]: Using backend LokyBackend with 8 concurrent workers.\n",
      "[Parallel(n_jobs=-1)]: Done   3 out of   3 | elapsed:  4.4min finished\n",
      "[Parallel(n_jobs=-1)]: Using backend LokyBackend with 8 concurrent workers.\n"
     ]
    },
    {
     "name": "stdout",
     "output_type": "stream",
     "text": [
      "[0.9602430555555556, 0.9615277777777779, 0.9601736111111112, 0.9595486111111112, 0.9581597222222222, 0.9581944444444445, 0.9561458333333333, 0.9557638888888889, 0.9545486111111111]\n"
     ]
    },
    {
     "name": "stderr",
     "output_type": "stream",
     "text": [
      "[Parallel(n_jobs=-1)]: Done   3 out of   3 | elapsed:  4.6min finished\n"
     ]
    }
   ],
   "source": [
    "# Tune KNN accuracy with k hyperparameter\n",
    "accuracies = []\n",
    "for k in np.arange(4, 13):\n",
    "    knn = KNeighborsClassifier(n_neighbors=k)\n",
    "    scores = cross_val_score(knn, x_train, y_train, cv=3, n_jobs=-1, verbose=3)\n",
    "    accuracies.append(scores.mean())\n",
    "print(accuracies)"
   ]
  },
  {
   "cell_type": "code",
   "execution_count": 17,
   "metadata": {},
   "outputs": [
    {
     "data": {
      "image/png": "[encoded data removed]",
      "text/plain": [
       "<Figure size 432x288 with 1 Axes>"
      ]
     },
     "metadata": {},
     "output_type": "display_data"
    }
   ],
   "source": [
    "# Visualize tuning\n",
    "plt.plot(np.arange(4,13), accuracies)\n",
    "plt.xlabel('K value')\n",
    "plt.ylabel('Accuracy')\n",
    "plt.show()"
   ]
  },
  {
   "cell_type": "code",
   "execution_count": 18,
   "metadata": {},
   "outputs": [
    {
     "name": "stdout",
     "output_type": "stream",
     "text": [
      "[LibSVM]"
     ]
    },
    {
     "data": {
      "text/plain": [
       "SVC(random_state=42, verbose=3)"
      ]
     },
     "execution_count": 18,
     "metadata": {},
     "output_type": "execute_result"
    }
   ],
   "source": [
    "# SVM Classifier\n",
    "svm_clf = SVC(kernel='rbf', random_state=42, verbose=3)\n",
    "svm_clf.fit(x_train, y_train)"
   ]
  },
  {
   "cell_type": "code",
   "execution_count": 19,
   "metadata": {},
   "outputs": [
    {
     "data": {
      "text/plain": [
       "0.9809375"
      ]
     },
     "execution_count": 19,
     "metadata": {},
     "output_type": "execute_result"
    }
   ],
   "source": [
    "# SVM prediction and accuracy\n",
    "y_test_pred_svm = svm_clf.predict(x_test)\n",
    "accuracy_score(y_test, y_test_pred_svm)"
   ]
  },
  {
   "cell_type": "code",
   "execution_count": 20,
   "metadata": {},
   "outputs": [
    {
     "name": "stdout",
     "output_type": "stream",
     "text": [
      "Fitting 5 folds for each of 4 candidates, totalling 20 fits\n",
      "[CV] C=0.1 ...........................................................\n"
     ]
    },
    {
     "name": "stderr",
     "output_type": "stream",
     "text": [
      "[Parallel(n_jobs=1)]: Using backend SequentialBackend with 1 concurrent workers.\n"
     ]
    },
    {
     "name": "stdout",
     "output_type": "stream",
     "text": [
      "[CV] ............................... C=0.1, score=0.945, total= 3.0min\n",
      "[CV] C=0.1 ...........................................................\n"
     ]
    },
    {
     "name": "stderr",
     "output_type": "stream",
     "text": [
      "[Parallel(n_jobs=1)]: Done   1 out of   1 | elapsed:  3.0min remaining:    0.0s\n"
     ]
    },
    {
     "name": "stdout",
     "output_type": "stream",
     "text": [
      "[CV] ............................... C=0.1, score=0.947, total= 2.9min\n",
      "[CV] C=0.1 ...........................................................\n"
     ]
    },
    {
     "name": "stderr",
     "output_type": "stream",
     "text": [
      "[Parallel(n_jobs=1)]: Done   2 out of   2 | elapsed:  5.8min remaining:    0.0s\n"
     ]
    },
    {
     "name": "stdout",
     "output_type": "stream",
     "text": [
      "[CV] ............................... C=0.1, score=0.948, total= 2.9min\n",
      "[CV] C=0.1 ...........................................................\n",
      "[CV] ............................... C=0.1, score=0.948, total= 2.9min\n",
      "[CV] C=0.1 ...........................................................\n",
      "[CV] ............................... C=0.1, score=0.947, total= 2.8min\n",
      "[CV] C=1 .............................................................\n",
      "[CV] ................................. C=1, score=0.973, total= 1.5min\n",
      "[CV] C=1 .............................................................\n",
      "[CV] ................................. C=1, score=0.975, total= 1.5min\n",
      "[CV] C=1 .............................................................\n",
      "[CV] ................................. C=1, score=0.973, total= 1.4min\n",
      "[CV] C=1 .............................................................\n",
      "[CV] ................................. C=1, score=0.972, total= 1.4min\n",
      "[CV] C=1 .............................................................\n",
      "[CV] ................................. C=1, score=0.971, total= 1.4min\n",
      "[CV] C=10 ............................................................\n",
      "[CV] ................................ C=10, score=0.980, total= 1.4min\n",
      "[CV] C=10 ............................................................\n",
      "[CV] ................................ C=10, score=0.980, total= 1.4min\n",
      "[CV] C=10 ............................................................\n",
      "[CV] ................................ C=10, score=0.980, total= 1.4min\n",
      "[CV] C=10 ............................................................\n",
      "[CV] ................................ C=10, score=0.980, total= 1.4min\n",
      "[CV] C=10 ............................................................\n",
      "[CV] ................................ C=10, score=0.980, total= 1.3min\n",
      "[CV] C=100 ...........................................................\n",
      "[CV] ............................... C=100, score=0.980, total= 1.4min\n",
      "[CV] C=100 ...........................................................\n",
      "[CV] ............................... C=100, score=0.980, total= 1.3min\n",
      "[CV] C=100 ...........................................................\n",
      "[CV] ............................... C=100, score=0.980, total= 1.4min\n",
      "[CV] C=100 ...........................................................\n",
      "[CV] ............................... C=100, score=0.980, total= 1.5min\n",
      "[CV] C=100 ...........................................................\n",
      "[CV] ............................... C=100, score=0.980, total= 1.5min\n"
     ]
    },
    {
     "name": "stderr",
     "output_type": "stream",
     "text": [
      "[Parallel(n_jobs=1)]: Done  20 out of  20 | elapsed: 35.7min finished\n"
     ]
    },
    {
     "data": {
      "text/plain": [
       "GridSearchCV(estimator=SVC(random_state=42),\n",
       "             param_grid={'C': [0.1, 1, 10, 100]}, verbose=3)"
      ]
     },
     "execution_count": 20,
     "metadata": {},
     "output_type": "execute_result"
    }
   ],
   "source": [
    "# GSCV for SVC with different hyperparameters C\n",
    "params_grid_svm = {'C': [0.1, 1, 10, 100]}\n",
    "grid_search_svm = GridSearchCV(\n",
    "    SVC(kernel='rbf', random_state=42),\n",
    "    param_grid=params_grid_svm,\n",
    "    verbose=3,\n",
    ")\n",
    "grid_search_svm.fit(x_train, y_train)"
   ]
  },
  {
   "cell_type": "code",
   "execution_count": 21,
   "metadata": {},
   "outputs": [
    {
     "name": "stdout",
     "output_type": "stream",
     "text": [
      "SVM best params: {'C': 100}\n",
      "SVM best score: 0.9798611111111111\n"
     ]
    }
   ],
   "source": [
    "# Optimal SVM hyperparameters\n",
    "print(f'SVM best params: {grid_search_svm.best_params_}')\n",
    "print(f'SVM best score: {grid_search_svm.best_score_}')"
   ]
  },
  {
   "cell_type": "code",
   "execution_count": 23,
   "metadata": {},
   "outputs": [
    {
     "name": "stderr",
     "output_type": "stream",
     "text": [
      "[Parallel(n_jobs=-1)]: Using backend LokyBackend with 8 concurrent workers.\n",
      "[Parallel(n_jobs=-1)]: Done  34 tasks      | elapsed:    3.0s\n",
      "[Parallel(n_jobs=-1)]: Done 184 tasks      | elapsed:    8.7s\n",
      "[Parallel(n_jobs=-1)]: Done 434 tasks      | elapsed:   19.4s\n",
      "[Parallel(n_jobs=-1)]: Done 500 out of 500 | elapsed:   22.1s finished\n"
     ]
    },
    {
     "data": {
      "text/plain": [
       "VotingClassifier(estimators=[('sgd', SGDClassifier(random_state=42)),\n",
       "                             ('rfc',\n",
       "                              RandomForestClassifier(n_estimators=500,\n",
       "                                                     n_jobs=-1, random_state=42,\n",
       "                                                     verbose=1)),\n",
       "                             ('knn', KNeighborsClassifier(weights='distance')),\n",
       "                             ('svc',\n",
       "                              SVC(C=100, probability=True, random_state=42))])"
      ]
     },
     "execution_count": 23,
     "metadata": {},
     "output_type": "execute_result"
    }
   ],
   "source": [
    "# Voting Classifier (ensemble) with optimal values\n",
    "sgd_clf = SGDClassifier(random_state=42)\n",
    "rf_clf = RandomForestClassifier(n_estimators=500, random_state=42, n_jobs=-1, verbose=1)\n",
    "knn_clf = KNeighborsClassifier(n_neighbors=5, weights='distance')\n",
    "svm_clf = SVC(kernel='rbf', C=100, probability=True, random_state=42)\n",
    "\n",
    "voting_clf = VotingClassifier(estimators=[\n",
    "    ('sgd', sgd_clf),\n",
    "    ('rfc', rf_clf),\n",
    "    ('knn', knn_clf),\n",
    "    ('svc', svm_clf),\n",
    "])\n",
    "voting_clf.fit(x_train, y_train)"
   ]
  },
  {
   "cell_type": "code",
   "execution_count": 24,
   "metadata": {},
   "outputs": [
    {
     "name": "stdout",
     "output_type": "stream",
     "text": [
      "SGDClassifier 0.8790625\n"
     ]
    },
    {
     "name": "stderr",
     "output_type": "stream",
     "text": [
      "[Parallel(n_jobs=-1)]: Using backend ThreadingBackend with 8 concurrent workers.\n",
      "[Parallel(n_jobs=-1)]: Done  34 tasks      | elapsed:    1.2s\n",
      "[Parallel(n_jobs=-1)]: Done 184 tasks      | elapsed:    6.7s\n",
      "[Parallel(n_jobs=-1)]: Done 434 tasks      | elapsed:   16.9s\n",
      "[Parallel(n_jobs=-1)]: Done 500 out of 500 | elapsed:   19.4s finished\n",
      "[Parallel(n_jobs=8)]: Using backend ThreadingBackend with 8 concurrent workers.\n",
      "[Parallel(n_jobs=8)]: Done  34 tasks      | elapsed:    0.0s\n",
      "[Parallel(n_jobs=8)]: Done 184 tasks      | elapsed:    0.1s\n",
      "[Parallel(n_jobs=8)]: Done 434 tasks      | elapsed:    0.2s\n",
      "[Parallel(n_jobs=8)]: Done 500 out of 500 | elapsed:    0.2s finished\n"
     ]
    },
    {
     "name": "stdout",
     "output_type": "stream",
     "text": [
      "RandomForestClassifier 0.973125\n",
      "KNeighborsClassifier 0.97125\n",
      "SVC 0.9840625\n"
     ]
    },
    {
     "name": "stderr",
     "output_type": "stream",
     "text": [
      "[Parallel(n_jobs=-1)]: Using backend LokyBackend with 8 concurrent workers.\n",
      "[Parallel(n_jobs=-1)]: Done  34 tasks      | elapsed:    2.9s\n",
      "[Parallel(n_jobs=-1)]: Done 184 tasks      | elapsed:    9.1s\n",
      "[Parallel(n_jobs=-1)]: Done 434 tasks      | elapsed:   20.6s\n",
      "[Parallel(n_jobs=-1)]: Done 500 out of 500 | elapsed:   23.4s finished\n",
      "[Parallel(n_jobs=8)]: Using backend ThreadingBackend with 8 concurrent workers.\n",
      "[Parallel(n_jobs=8)]: Done  34 tasks      | elapsed:    0.0s\n",
      "[Parallel(n_jobs=8)]: Done 184 tasks      | elapsed:    0.1s\n",
      "[Parallel(n_jobs=8)]: Done 434 tasks      | elapsed:    0.1s\n",
      "[Parallel(n_jobs=8)]: Done 500 out of 500 | elapsed:    0.2s finished\n"
     ]
    },
    {
     "name": "stdout",
     "output_type": "stream",
     "text": [
      "VotingClassifier 0.97625\n"
     ]
    }
   ],
   "source": [
    "# Implement classifiers\n",
    "for clf in (sgd_clf, rf_clf, knn_clf, svm_clf, voting_clf):\n",
    "    clf.fit(x_train, y_train)\n",
    "    y_pred = clf.predict(x_test)\n",
    "    print(clf.__class__.__name__, accuracy_score(y_test, y_pred))"
   ]
  },
  {
   "cell_type": "code",
   "execution_count": 25,
   "metadata": {},
   "outputs": [
    {
     "name": "stderr",
     "output_type": "stream",
     "text": [
      "[Parallel(n_jobs=-1)]: Using backend LokyBackend with 8 concurrent workers.\n",
      "[Parallel(n_jobs=-1)]: Done  34 tasks      | elapsed:    3.3s\n",
      "[Parallel(n_jobs=-1)]: Done 184 tasks      | elapsed:   10.5s\n",
      "[Parallel(n_jobs=-1)]: Done 434 tasks      | elapsed:   27.6s\n",
      "[Parallel(n_jobs=-1)]: Done 500 out of 500 | elapsed:   33.0s finished\n"
     ]
    },
    {
     "data": {
      "text/plain": [
       "VotingClassifier(estimators=[('rfc',\n",
       "                              RandomForestClassifier(n_estimators=500,\n",
       "                                                     n_jobs=-1, random_state=42,\n",
       "                                                     verbose=1)),\n",
       "                             ('knn', KNeighborsClassifier(weights='distance')),\n",
       "                             ('svc',\n",
       "                              SVC(C=100, probability=True, random_state=42))],\n",
       "                 voting='soft')"
      ]
     },
     "execution_count": 25,
     "metadata": {},
     "output_type": "execute_result"
    }
   ],
   "source": [
    "# Voting test results\n",
    "voting_clf = VotingClassifier(estimators=[(\"rfc\", rf_clf), (\"knn\", knn_clf), (\"svc\", svm_clf)], voting=\"soft\")\n",
    "voting_clf.fit(x_train, y_train)"
   ]
  },
  {
   "cell_type": "code",
   "execution_count": 26,
   "metadata": {},
   "outputs": [
    {
     "name": "stderr",
     "output_type": "stream",
     "text": [
      "[Parallel(n_jobs=8)]: Using backend ThreadingBackend with 8 concurrent workers.\n",
      "[Parallel(n_jobs=8)]: Done  34 tasks      | elapsed:    0.0s\n",
      "[Parallel(n_jobs=8)]: Done 184 tasks      | elapsed:    0.1s\n",
      "[Parallel(n_jobs=8)]: Done 434 tasks      | elapsed:    0.2s\n",
      "[Parallel(n_jobs=8)]: Done 500 out of 500 | elapsed:    0.2s finished\n"
     ]
    },
    {
     "data": {
      "text/plain": [
       "0.984375"
      ]
     },
     "execution_count": 26,
     "metadata": {},
     "output_type": "execute_result"
    }
   ],
   "source": [
    "# Voting prediction and accuracy\n",
    "y_pred_vote_clf = voting_clf.predict(x_test)\n",
    "accuracy_score(y_test, y_pred_vote_clf)"
   ]
  },
  {
   "cell_type": "code",
   "execution_count": 33,
   "metadata": {},
   "outputs": [
    {
     "name": "stderr",
     "output_type": "stream",
     "text": [
      "[Parallel(n_jobs=8)]: Using backend ThreadingBackend with 8 concurrent workers.\n",
      "[Parallel(n_jobs=8)]: Done  34 tasks      | elapsed:    0.0s\n",
      "[Parallel(n_jobs=8)]: Done 184 tasks      | elapsed:    0.1s\n",
      "[Parallel(n_jobs=8)]: Done 434 tasks      | elapsed:    0.2s\n",
      "[Parallel(n_jobs=8)]: Done 500 out of 500 | elapsed:    0.2s finished\n"
     ]
    }
   ],
   "source": [
    "# Prepare the submission\n",
    "test_data = pd.read_csv('../input/test.csv')\n",
    "\n",
    "mnist_ids = [i for i in range(test_data.shape[0])]\n",
    "y_test_pred_vote_clf = voting_clf.predict(test_data)\n",
    "\n",
    "test_submission = pd.DataFrame(list(zip(mnist_ids, y_test_pred_vote_clf)), columns=['id','label'])\n",
    "test_submission.to_csv('test_submission.csv', index=False)"
   ]
  },
  {
   "cell_type": "code",
   "execution_count": null,
   "metadata": {},
   "outputs": [],
   "source": []
  }
 ],
 "metadata": {
  "kernelspec": {
   "display_name": "Python 3",
   "language": "python",
   "name": "python3"
  },
  "language_info": {
   "codemirror_mode": {
    "name": "ipython",
    "version": 3
   },
   "file_extension": ".py",
   "mimetype": "text/x-python",
   "name": "python",
   "nbconvert_exporter": "python",
   "pygments_lexer": "ipython3",
   "version": "3.8.5"
  }
 },
 "nbformat": 4,
 "nbformat_minor": 4
}
